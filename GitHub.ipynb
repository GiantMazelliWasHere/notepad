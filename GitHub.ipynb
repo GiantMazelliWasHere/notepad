{
 "cells": [
  {
   "cell_type": "markdown",
   "metadata": {},
   "source": [
    "# Github"
   ]
  },
  {
   "cell_type": "markdown",
   "metadata": {},
   "source": [
    "## Códigos interessantes"
   ]
  },
  {
   "cell_type": "markdown",
   "metadata": {},
   "source": [
    "git clone (link do repositorio): Clona o repositório do GitHub para um repositório local;\n",
    "\n",
    "git clone <repositório> <nome_da_pasta_destino>: Clona o repositório em uma pasta com o nome fornecido no segundo conjunto de <>;\n",
    "\n",
    "git clone -branch -(nome da branch) <repositório>: Clona apenas a branch cujo o nome foi passado no código."
   ]
  },
  {
   "cell_type": "markdown",
   "metadata": {},
   "source": [
    "git log: Mostra o histório de versões do repositório com os commits realizados, autores que os realizaram, data e hora que foram realizados;\n",
    "\n",
    "git log --online: Histórico de versões resumido, mostrando apenas os commits. Recentes em cima, antigos embaixo;\n",
    "\n",
    "git log -p: Histórico de versões com mais infos. Exemplo: Alterações realizadas;\n",
    "\n",
    "git log --since=nº.time_period.ago --until=nº.time_period.ago: Historico de versões por data. Time Period = Day/Month/Year;\n",
    "\n",
    "git log -author: Histórico de versões por autor do commit."
   ]
  },
  {
   "cell_type": "markdown",
   "metadata": {},
   "source": [
    "git status: Visualiza as modificações feitas ao repositório local;\n",
    "\n",
    "git add: Adiciona as modificaç~~oes ao repositório local;\n",
    "\n",
    "git commit: Atualiza o arquivo dentro do repositório local. devemos usar o '-m' para escrever uma breve mensagem sobre o que se trata o commit;\n",
    "\n",
    "git push origin (nome da branch): Envia as modificações do repsitório local para o repositório do GitHub. Só pode ser reaizado após o 'git commit';\n",
    "\n",
    "git pull: Puxa as atualizações realizadas no repositório do GitHub;\n",
    "\n",
    "git restore --source (nº do commit local ou '.'): Restaura versões antigas do seu código;\n",
    "\n",
    "git checkout -b (nome da branch): Cria uma nova branch no repositório;\n",
    "\n",
    "git switch (nome da branch): Muda de uma branch para outra;\n",
    "\n",
    "git merge (nome da branch a ser puxada): Junta duas branchs. Executar na branch destino."
   ]
  }
 ],
 "metadata": {
  "kernelspec": {
   "display_name": "Python 3",
   "language": "python",
   "name": "python3"
  },
  "language_info": {
   "name": "python",
   "version": "3.12.2"
  }
 },
 "nbformat": 4,
 "nbformat_minor": 2
}
