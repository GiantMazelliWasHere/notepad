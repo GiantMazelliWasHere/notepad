{
 "cells": [
  {
   "cell_type": "markdown",
   "metadata": {},
   "source": [
    "# Códigos interessantes de Python"
   ]
  },
  {
   "cell_type": "markdown",
   "metadata": {},
   "source": [
    "### Search: Escaneia uma string procurando a primeira ocorrência de match com uma referência e retorna o objeto que correspondeu ao match"
   ]
  },
  {
   "cell_type": "code",
   "execution_count": null,
   "metadata": {},
   "outputs": [],
   "source": [
    "# Syntax:\n",
    "patter.search(str[pos[endpos]]) \n",
    "# Nesse caso o 'pos' e o 'endpos' são opicionais, se forem fornecidos a busca começara no index de 'pos' e terminará no 'endpos'\n",
    "# o padrão é pos = 0 e endpos = final da string"
   ]
  },
  {
   "cell_type": "markdown",
   "metadata": {},
   "source": [
    "### Try / Finally / Except"
   ]
  },
  {
   "cell_type": "markdown",
   "metadata": {},
   "source": [
    "Try: Tenta rodar o bloco de código na busca de exceções;\n",
    "\n",
    "Finally: força o funcionamento de um bloco de código, mesmo se o bloco try retornar uma exceção;\n",
    "\n",
    "Except: Avisa que uma certa exceção irá ocorrer e quando ocorrer deverá rodar o bloco de código."
   ]
  },
  {
   "cell_type": "code",
   "execution_count": null,
   "metadata": {},
   "outputs": [],
   "source": [
    "# Syntax:\n",
    "\n",
    "Try:\n",
    "    # code to run\n",
    "    pass\n",
    "Finally:\n",
    "    # code to run\n",
    "    pass\n",
    "except errorname:\n",
    "    #code to run\n",
    "    pass"
   ]
  },
  {
   "cell_type": "markdown",
   "metadata": {},
   "source": [
    "Exceções Comuns:\n",
    "\n",
    "filenotfounderror: Arquivo não encontrado;\n",
    "\n",
    "Memoryerror: Falta de memória raam para rodar o código;\n",
    "\n",
    "Syntaxerror: Ocorrreu um erro de syntax em alguma área do código;\n",
    "\n",
    "Typeerror: Error no tipo de variável usada em uma função;\n",
    "\n",
    "nameerror: Quando alguma variável usada não foi definida;\n",
    "\n",
    "Permissionerror: Quando o úsuario não tem permissão para realizar um ação;\n",
    "\n",
    "Attributeerror: O atributo chamado no código não foi propriamente informado;\n",
    "\n",
    "zerodivisionerror: Houve uma divisão por 0 no código;\n",
    "\n",
    "Indentationerror: Falta de identação no bloco de código."
   ]
  }
 ],
 "metadata": {
  "kernelspec": {
   "display_name": "Python 3",
   "language": "python",
   "name": "python3"
  },
  "language_info": {
   "name": "python",
   "version": "3.12.2"
  }
 },
 "nbformat": 4,
 "nbformat_minor": 2
}
